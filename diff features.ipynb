{
 "cells": [
  {
   "cell_type": "code",
   "execution_count": 1,
   "metadata": {},
   "outputs": [],
   "source": [
    "from collections import defaultdict\n",
    "import pathlib\n",
    "\n",
    "import numpy as np\n",
    "import pandas as pd\n",
    "\n",
    "import matplotlib.pyplot as plt\n",
    "import seaborn as sns\n",
    "\n",
    "import patsy\n",
    "\n",
    "from sklearn.linear_model import LinearRegression, Lasso, Ridge\n",
    "from sklearn.metrics import mean_squared_error \n",
    "from sklearn.model_selection import train_test_split, KFold\n",
    "from sklearn.pipeline import Pipeline\n",
    "from sklearn.preprocessing import StandardScaler, PolynomialFeatures"
   ]
  },
  {
   "cell_type": "code",
   "execution_count": 2,
   "metadata": {},
   "outputs": [],
   "source": [
    "cwd = pathlib.Path.cwd()\n",
    "data_path = cwd / 'data'\n",
    "pkl_path = data_path / 'pkl'\n",
    "observations_pkl = pkl_path /'observations.pkl'\n",
    "\n",
    "df = pd.read_pickle(observations_pkl).astype(float)\n",
    "df['Percent_Passed'] = df['Percentage_Standard_Met_and_Above']\n",
    "df['Math'] = df['Test_Id'] - 1\n",
    "df['Mean_Score'] = df['Mean_Scale_Score']\n",
    "df['Percent_Tested'] = df['Students_Tested'] / df['CAASPP_Reported_Enrollment']\n",
    "df['Participation_95'] = (df['Percent_Tested'] > 0.95).astype(int)\n",
    "# df = df[['Median_Income', 'Percent_Passed', 'Math', 'Participation_95', 'Percent_Tested', 'Grade', 'Mean_Score']]"
   ]
  },
  {
   "cell_type": "code",
   "execution_count": 17,
   "metadata": {},
   "outputs": [],
   "source": [
    "# df.columns"
   ]
  },
  {
   "cell_type": "code",
   "execution_count": 4,
   "metadata": {},
   "outputs": [],
   "source": [
    "raw = ['Test_Year', 'Total_Tested_At_Entity_Level', 'Total_Tested_with_Scores',\n",
    "       'Grade', 'Test_Id', 'CAASPP_Reported_Enrollment', 'Students_Tested',\n",
    "       'Mean_Scale_Score', 'Percentage_Standard_Met_and_Above','Type_Id', 'Zip']"
   ]
  },
  {
   "cell_type": "code",
   "execution_count": 40,
   "metadata": {
    "scrolled": false
   },
   "outputs": [
    {
     "name": "stdout",
     "output_type": "stream",
     "text": [
      "Intercept: [5.58585322]\n",
      "R^2 Score: 0.14235400929418696\n",
      "Adj R^2 Score: 0.1423238773337222\n",
      "RMSE Score: 0.34850155128667776\n"
     ]
    }
   ],
   "source": [
    "    # 19598         0.35835\n",
    "# y, X = patsy.dmatrices(('Median_Income ~ Math * np.log(Grade) * Mean_Score * np.log(Percent_Passed + 1) + np.log(1.01-Percent_Tested) - Math:np.log(Grade):Mean_Score:np.log(Percent_Passed + 1) + 0'), data=df)\n",
    "    # log 0.3102    0.31990\n",
    "# y, X = patsy.dmatrices(('np.log(Median_Income) ~ Math * np.log(Grade) * Mean_Score * np.log(Percent_Passed + 1) + np.log(1.01-Percent_Tested) - Math:np.log(Grade):Mean_Score:np.log(Percent_Passed + 1) + 0'), data=df)\n",
    "    # 19675         0.35325\n",
    "# y, X = patsy.dmatrices(('Median_Income ~ Math * Grade * Mean_Score * Percent_Passed + Percent_Tested - Math:Grade:Mean_Score:Percent_Passe + 0'), data=df)\n",
    "    # 20353         0.30807\n",
    "# y, X = patsy.dmatrices(('Median_Income ~ Math + Grade + Mean_Score + Percent_Passed + Percent_Tested + 0'), data=df)\n",
    "#     20189     0.31911\n",
    "# y, X = patsy.dmatrices((f'Median_Income ~ {\" + \".join(raw)} + 0'), data=df)\n",
    "\n",
    "y, X = patsy.dmatrices('np.log(Median_Income) ~ Mean_Scale_Score + 0', data=df)\n",
    "\n",
    "# y, X = patsy.dmatrices('np.log(Median_Income) ~ Percentage_Standard_Met_and_Above + 0', data=df)\n",
    "\n",
    "\n",
    "linreg = LinearRegression()\n",
    "fit = linreg.fit(X, y)\n",
    "r_squared = linreg.score(X, y)\n",
    "adjusted_r_squared = 1 - (1 - r_squared) * len(y) / (len(y) - X.shape[1] - 1)\n",
    "rmse = np.sqrt(mean_squared_error(y, fit.predict(X)))\n",
    "\n",
    "\n",
    "y_df = pd.DataFrame(y, columns=y.design_info.column_names)\n",
    "X_df = pd.DataFrame(X, columns=X.design_info.column_names)\n",
    "interactions = pd.concat([X_df, y_df], axis=1)\n",
    "\n",
    "print('Intercept:', fit.intercept_)\n",
    "print('R^2 Score:', r_squared)\n",
    "print('Adj R^2 Score:', adjusted_r_squared)\n",
    "print('RMSE Score:', rmse)\n",
    "\n",
    "# predictions = fit.predict(X)\n",
    "# residuals = y - fit.predict(X)\n",
    "# plot = sns.scatterplot(x=predictions.ravel(), y=residuals.ravel(), alpha=0.2)\n",
    "# plt.title('Residual Plot')\n",
    "# plt.xlabel('Predictions')\n",
    "# plt.ylabel('Residuals')"
   ]
  },
  {
   "cell_type": "code",
   "execution_count": 41,
   "metadata": {},
   "outputs": [
    {
     "data": {
      "text/html": [
       "<table class=\"simpletable\">\n",
       "<caption>OLS Regression Results</caption>\n",
       "<tr>\n",
       "  <th>Dep. Variable:</th>            <td>y</td>        <th>  R-squared:         </th> <td>   0.142</td> \n",
       "</tr>\n",
       "<tr>\n",
       "  <th>Model:</th>                   <td>OLS</td>       <th>  Adj. R-squared:    </th> <td>   0.142</td> \n",
       "</tr>\n",
       "<tr>\n",
       "  <th>Method:</th>             <td>Least Squares</td>  <th>  F-statistic:       </th> <td>   9449.</td> \n",
       "</tr>\n",
       "<tr>\n",
       "  <th>Date:</th>             <td>Fri, 25 Jan 2019</td> <th>  Prob (F-statistic):</th>  <td>  0.00</td>  \n",
       "</tr>\n",
       "<tr>\n",
       "  <th>Time:</th>                 <td>08:37:45</td>     <th>  Log-Likelihood:    </th> <td> -20769.</td> \n",
       "</tr>\n",
       "<tr>\n",
       "  <th>No. Observations:</th>      <td> 56928</td>      <th>  AIC:               </th> <td>4.154e+04</td>\n",
       "</tr>\n",
       "<tr>\n",
       "  <th>Df Residuals:</th>          <td> 56926</td>      <th>  BIC:               </th> <td>4.156e+04</td>\n",
       "</tr>\n",
       "<tr>\n",
       "  <th>Df Model:</th>              <td>     1</td>      <th>                     </th>     <td> </td>    \n",
       "</tr>\n",
       "<tr>\n",
       "  <th>Covariance Type:</th>      <td>nonrobust</td>    <th>                     </th>     <td> </td>    \n",
       "</tr>\n",
       "</table>\n",
       "<table class=\"simpletable\">\n",
       "<tr>\n",
       "    <td></td>       <th>coef</th>     <th>std err</th>      <th>t</th>      <th>P>|t|</th>  <th>[0.025</th>    <th>0.975]</th>  \n",
       "</tr>\n",
       "<tr>\n",
       "  <th>const</th> <td>    5.5859</td> <td>    0.055</td> <td>  100.965</td> <td> 0.000</td> <td>    5.477</td> <td>    5.694</td>\n",
       "</tr>\n",
       "<tr>\n",
       "  <th>x1</th>    <td>    0.0022</td> <td> 2.22e-05</td> <td>   97.204</td> <td> 0.000</td> <td>    0.002</td> <td>    0.002</td>\n",
       "</tr>\n",
       "</table>\n",
       "<table class=\"simpletable\">\n",
       "<tr>\n",
       "  <th>Omnibus:</th>       <td>28.927</td> <th>  Durbin-Watson:     </th> <td>   0.203</td>\n",
       "</tr>\n",
       "<tr>\n",
       "  <th>Prob(Omnibus):</th> <td> 0.000</td> <th>  Jarque-Bera (JB):  </th> <td>  29.264</td>\n",
       "</tr>\n",
       "<tr>\n",
       "  <th>Skew:</th>          <td>-0.048</td> <th>  Prob(JB):          </th> <td>4.42e-07</td>\n",
       "</tr>\n",
       "<tr>\n",
       "  <th>Kurtosis:</th>      <td> 3.056</td> <th>  Cond. No.          </th> <td>9.43e+04</td>\n",
       "</tr>\n",
       "</table><br/><br/>Warnings:<br/>[1] Standard Errors assume that the covariance matrix of the errors is correctly specified.<br/>[2] The condition number is large, 9.43e+04. This might indicate that there are<br/>strong multicollinearity or other numerical problems."
      ],
      "text/plain": [
       "<class 'statsmodels.iolib.summary.Summary'>\n",
       "\"\"\"\n",
       "                            OLS Regression Results                            \n",
       "==============================================================================\n",
       "Dep. Variable:                      y   R-squared:                       0.142\n",
       "Model:                            OLS   Adj. R-squared:                  0.142\n",
       "Method:                 Least Squares   F-statistic:                     9449.\n",
       "Date:                Fri, 25 Jan 2019   Prob (F-statistic):               0.00\n",
       "Time:                        08:37:45   Log-Likelihood:                -20769.\n",
       "No. Observations:               56928   AIC:                         4.154e+04\n",
       "Df Residuals:                   56926   BIC:                         4.156e+04\n",
       "Df Model:                           1                                         \n",
       "Covariance Type:            nonrobust                                         \n",
       "==============================================================================\n",
       "                 coef    std err          t      P>|t|      [0.025      0.975]\n",
       "------------------------------------------------------------------------------\n",
       "const          5.5859      0.055    100.965      0.000       5.477       5.694\n",
       "x1             0.0022   2.22e-05     97.204      0.000       0.002       0.002\n",
       "==============================================================================\n",
       "Omnibus:                       28.927   Durbin-Watson:                   0.203\n",
       "Prob(Omnibus):                  0.000   Jarque-Bera (JB):               29.264\n",
       "Skew:                          -0.048   Prob(JB):                     4.42e-07\n",
       "Kurtosis:                       3.056   Cond. No.                     9.43e+04\n",
       "==============================================================================\n",
       "\n",
       "Warnings:\n",
       "[1] Standard Errors assume that the covariance matrix of the errors is correctly specified.\n",
       "[2] The condition number is large, 9.43e+04. This might indicate that there are\n",
       "strong multicollinearity or other numerical problems.\n",
       "\"\"\""
      ]
     },
     "execution_count": 41,
     "metadata": {},
     "output_type": "execute_result"
    }
   ],
   "source": [
    "import statsmodels.api as sm\n",
    "\n",
    "lm = sm.OLS(y, sm.add_constant(X))\n",
    "fit = lm.fit()\n",
    "fit.summary()"
   ]
  }
 ],
 "metadata": {
  "kernelspec": {
   "display_name": "Python 3",
   "language": "python",
   "name": "python3"
  },
  "language_info": {
   "codemirror_mode": {
    "name": "ipython",
    "version": 3
   },
   "file_extension": ".py",
   "mimetype": "text/x-python",
   "name": "python",
   "nbconvert_exporter": "python",
   "pygments_lexer": "ipython3",
   "version": "3.7.1"
  }
 },
 "nbformat": 4,
 "nbformat_minor": 2
}
