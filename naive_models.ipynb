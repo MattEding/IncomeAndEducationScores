{
 "cells": [
  {
   "cell_type": "code",
   "execution_count": 1,
   "metadata": {},
   "outputs": [],
   "source": [
    "import pathlib\n",
    "\n",
    "import numpy as np\n",
    "import pandas as pd\n",
    "\n",
    "import patsy\n",
    "import statsmodels.api as sm\n",
    "from sklearn.linear_model import LinearRegression\n",
    "from sklearn.metrics import mean_squared_error "
   ]
  },
  {
   "cell_type": "code",
   "execution_count": 2,
   "metadata": {},
   "outputs": [],
   "source": [
    "cwd = pathlib.Path.cwd()\n",
    "data_path = cwd / 'data'\n",
    "pkl_path = data_path / 'pkl'\n",
    "observations_pkl = pkl_path /'observations.pkl'\n",
    "\n",
    "df = pd.read_pickle(observations_pkl).astype(float)"
   ]
  },
  {
   "cell_type": "markdown",
   "metadata": {},
   "source": [
    "All raw features excluding multicollinear ones such as Percent_Below_Standard.  \n",
    "Just keep Percentage_Standard_Met_and_Above"
   ]
  },
  {
   "cell_type": "code",
   "execution_count": 3,
   "metadata": {},
   "outputs": [],
   "source": [
    "raw = ['Test_Year', 'Total_Tested_At_Entity_Level', 'Total_Tested_with_Scores',\n",
    "       'Grade', 'Test_Id', 'CAASPP_Reported_Enrollment', 'Students_Tested',\n",
    "       'Mean_Scale_Score', 'Percentage_Standard_Met_and_Above','Type_Id', 'Zip']"
   ]
  },
  {
   "cell_type": "markdown",
   "metadata": {},
   "source": [
    "### Uncomment out respective naive implementations to see results"
   ]
  },
  {
   "cell_type": "code",
   "execution_count": 4,
   "metadata": {
    "scrolled": false
   },
   "outputs": [
    {
     "name": "stdout",
     "output_type": "stream",
     "text": [
      "Intercept: [-157671.56813038]\n",
      "R^2 Score: 0.3192627946174227\n",
      "Adj R^2 Score: 0.3191192700116072\n",
      "RMSE Score: 20189.28668419213\n"
     ]
    }
   ],
   "source": [
    "#: Naive OLS model of throwing all original features at target\n",
    "y, X = patsy.dmatrices((f'Median_Income ~ {\" + \".join(raw)} + 0'), data=df)\n",
    "\n",
    "#: Naive Simple Linear Regression with just Mean Score\n",
    "# y, X = patsy.dmatrices('np.log(Median_Income) ~ Mean_Scale_Score + 0', data=df)\n",
    "\n",
    "#: Naive Simple Linear Regression with just Median Income\n",
    "# y, X = patsy.dmatrices('np.log(Median_Income) ~ Percentage_Standard_Met_and_Above + 0', data=df)\n",
    "\n",
    "linreg = LinearRegression()\n",
    "fit = linreg.fit(X, y)\n",
    "r_squared = linreg.score(X, y)\n",
    "adjusted_r_squared = 1 - (1 - r_squared) * len(y) / (len(y) - X.shape[1] - 1)\n",
    "rmse = np.sqrt(mean_squared_error(y, fit.predict(X)))\n",
    "\n",
    "y_df = pd.DataFrame(y, columns=y.design_info.column_names)\n",
    "X_df = pd.DataFrame(X, columns=X.design_info.column_names)\n",
    "interactions = pd.concat([X_df, y_df], axis=1)\n",
    "\n",
    "print('Intercept:', fit.intercept_)\n",
    "print('R^2 Score:', r_squared)\n",
    "print('Adj R^2 Score:', adjusted_r_squared)\n",
    "print('RMSE Score:', rmse)"
   ]
  },
  {
   "cell_type": "code",
   "execution_count": 5,
   "metadata": {},
   "outputs": [
    {
     "data": {
      "text/html": [
       "<table class=\"simpletable\">\n",
       "<caption>OLS Regression Results</caption>\n",
       "<tr>\n",
       "  <th>Dep. Variable:</th>      <td>Median_Income</td>  <th>  R-squared:         </th>  <td>   0.319</td>  \n",
       "</tr>\n",
       "<tr>\n",
       "  <th>Model:</th>                   <td>OLS</td>       <th>  Adj. R-squared:    </th>  <td>   0.319</td>  \n",
       "</tr>\n",
       "<tr>\n",
       "  <th>Method:</th>             <td>Least Squares</td>  <th>  F-statistic:       </th>  <td>   2669.</td>  \n",
       "</tr>\n",
       "<tr>\n",
       "  <th>Date:</th>             <td>Fri, 25 Jan 2019</td> <th>  Prob (F-statistic):</th>   <td>  0.00</td>   \n",
       "</tr>\n",
       "<tr>\n",
       "  <th>Time:</th>                 <td>15:29:25</td>     <th>  Log-Likelihood:    </th> <td>-6.4510e+05</td>\n",
       "</tr>\n",
       "<tr>\n",
       "  <th>No. Observations:</th>      <td> 56928</td>      <th>  AIC:               </th>  <td>1.290e+06</td> \n",
       "</tr>\n",
       "<tr>\n",
       "  <th>Df Residuals:</th>          <td> 56917</td>      <th>  BIC:               </th>  <td>1.290e+06</td> \n",
       "</tr>\n",
       "<tr>\n",
       "  <th>Df Model:</th>              <td>    10</td>      <th>                     </th>      <td> </td>     \n",
       "</tr>\n",
       "<tr>\n",
       "  <th>Covariance Type:</th>      <td>nonrobust</td>    <th>                     </th>      <td> </td>     \n",
       "</tr>\n",
       "</table>\n",
       "<table class=\"simpletable\">\n",
       "<tr>\n",
       "                  <td></td>                     <th>coef</th>     <th>std err</th>      <th>t</th>      <th>P>|t|</th>  <th>[0.025</th>    <th>0.975]</th>  \n",
       "</tr>\n",
       "<tr>\n",
       "  <th>Test_Year</th>                         <td>  -78.1326</td> <td>    4.809</td> <td>  -16.246</td> <td> 0.000</td> <td>  -87.559</td> <td>  -68.706</td>\n",
       "</tr>\n",
       "<tr>\n",
       "  <th>Total_Tested_At_Entity_Level</th>      <td>  201.6205</td> <td>   43.434</td> <td>    4.642</td> <td> 0.000</td> <td>  116.490</td> <td>  286.751</td>\n",
       "</tr>\n",
       "<tr>\n",
       "  <th>Total_Tested_with_Scores</th>          <td> -202.8167</td> <td>   43.493</td> <td>   -4.663</td> <td> 0.000</td> <td> -288.063</td> <td> -117.570</td>\n",
       "</tr>\n",
       "<tr>\n",
       "  <th>Grade</th>                             <td> -815.4109</td> <td>   94.785</td> <td>   -8.603</td> <td> 0.000</td> <td>-1001.190</td> <td> -629.632</td>\n",
       "</tr>\n",
       "<tr>\n",
       "  <th>Test_Id</th>                           <td> 5379.5464</td> <td>  182.553</td> <td>   29.468</td> <td> 0.000</td> <td> 5021.742</td> <td> 5737.351</td>\n",
       "</tr>\n",
       "<tr>\n",
       "  <th>CAASPP_Reported_Enrollment</th>        <td>  240.0734</td> <td>   12.930</td> <td>   18.567</td> <td> 0.000</td> <td>  214.730</td> <td>  265.416</td>\n",
       "</tr>\n",
       "<tr>\n",
       "  <th>Students_Tested</th>                   <td> -228.7238</td> <td>   13.214</td> <td>  -17.310</td> <td> 0.000</td> <td> -254.622</td> <td> -202.825</td>\n",
       "</tr>\n",
       "<tr>\n",
       "  <th>Mean_Scale_Score</th>                  <td>   40.0326</td> <td>    3.893</td> <td>   10.284</td> <td> 0.000</td> <td>   32.403</td> <td>   47.662</td>\n",
       "</tr>\n",
       "<tr>\n",
       "  <th>Percentage_Standard_Met_and_Above</th> <td> 5.337e+04</td> <td>  978.592</td> <td>   54.534</td> <td> 0.000</td> <td> 5.14e+04</td> <td> 5.53e+04</td>\n",
       "</tr>\n",
       "<tr>\n",
       "  <th>Type_Id</th>                           <td>-2307.5353</td> <td>  107.803</td> <td>  -21.405</td> <td> 0.000</td> <td>-2518.829</td> <td>-2096.242</td>\n",
       "</tr>\n",
       "<tr>\n",
       "  <th>Zip</th>                               <td>    1.1686</td> <td>    0.048</td> <td>   24.314</td> <td> 0.000</td> <td>    1.074</td> <td>    1.263</td>\n",
       "</tr>\n",
       "</table>\n",
       "<table class=\"simpletable\">\n",
       "<tr>\n",
       "  <th>Omnibus:</th>       <td>8407.110</td> <th>  Durbin-Watson:     </th> <td>   0.301</td> \n",
       "</tr>\n",
       "<tr>\n",
       "  <th>Prob(Omnibus):</th>  <td> 0.000</td>  <th>  Jarque-Bera (JB):  </th> <td>19727.684</td>\n",
       "</tr>\n",
       "<tr>\n",
       "  <th>Skew:</th>           <td> 0.858</td>  <th>  Prob(JB):          </th> <td>    0.00</td> \n",
       "</tr>\n",
       "<tr>\n",
       "  <th>Kurtosis:</th>       <td> 5.319</td>  <th>  Cond. No.          </th> <td>1.09e+06</td> \n",
       "</tr>\n",
       "</table><br/><br/>Warnings:<br/>[1] Standard Errors assume that the covariance matrix of the errors is correctly specified.<br/>[2] The condition number is large, 1.09e+06. This might indicate that there are<br/>strong multicollinearity or other numerical problems."
      ],
      "text/plain": [
       "<class 'statsmodels.iolib.summary.Summary'>\n",
       "\"\"\"\n",
       "                            OLS Regression Results                            \n",
       "==============================================================================\n",
       "Dep. Variable:          Median_Income   R-squared:                       0.319\n",
       "Model:                            OLS   Adj. R-squared:                  0.319\n",
       "Method:                 Least Squares   F-statistic:                     2669.\n",
       "Date:                Fri, 25 Jan 2019   Prob (F-statistic):               0.00\n",
       "Time:                        15:29:25   Log-Likelihood:            -6.4510e+05\n",
       "No. Observations:               56928   AIC:                         1.290e+06\n",
       "Df Residuals:                   56917   BIC:                         1.290e+06\n",
       "Df Model:                          10                                         \n",
       "Covariance Type:            nonrobust                                         \n",
       "=====================================================================================================\n",
       "                                        coef    std err          t      P>|t|      [0.025      0.975]\n",
       "-----------------------------------------------------------------------------------------------------\n",
       "Test_Year                           -78.1326      4.809    -16.246      0.000     -87.559     -68.706\n",
       "Total_Tested_At_Entity_Level        201.6205     43.434      4.642      0.000     116.490     286.751\n",
       "Total_Tested_with_Scores           -202.8167     43.493     -4.663      0.000    -288.063    -117.570\n",
       "Grade                              -815.4109     94.785     -8.603      0.000   -1001.190    -629.632\n",
       "Test_Id                            5379.5464    182.553     29.468      0.000    5021.742    5737.351\n",
       "CAASPP_Reported_Enrollment          240.0734     12.930     18.567      0.000     214.730     265.416\n",
       "Students_Tested                    -228.7238     13.214    -17.310      0.000    -254.622    -202.825\n",
       "Mean_Scale_Score                     40.0326      3.893     10.284      0.000      32.403      47.662\n",
       "Percentage_Standard_Met_and_Above  5.337e+04    978.592     54.534      0.000    5.14e+04    5.53e+04\n",
       "Type_Id                           -2307.5353    107.803    -21.405      0.000   -2518.829   -2096.242\n",
       "Zip                                   1.1686      0.048     24.314      0.000       1.074       1.263\n",
       "==============================================================================\n",
       "Omnibus:                     8407.110   Durbin-Watson:                   0.301\n",
       "Prob(Omnibus):                  0.000   Jarque-Bera (JB):            19727.684\n",
       "Skew:                           0.858   Prob(JB):                         0.00\n",
       "Kurtosis:                       5.319   Cond. No.                     1.09e+06\n",
       "==============================================================================\n",
       "\n",
       "Warnings:\n",
       "[1] Standard Errors assume that the covariance matrix of the errors is correctly specified.\n",
       "[2] The condition number is large, 1.09e+06. This might indicate that there are\n",
       "strong multicollinearity or other numerical problems.\n",
       "\"\"\""
      ]
     },
     "execution_count": 5,
     "metadata": {},
     "output_type": "execute_result"
    }
   ],
   "source": [
    "lm = sm.OLS(y, sm.add_constant(X))\n",
    "fit = lm.fit()\n",
    "fit.summary()"
   ]
  },
  {
   "cell_type": "code",
   "execution_count": null,
   "metadata": {},
   "outputs": [],
   "source": []
  }
 ],
 "metadata": {
  "kernelspec": {
   "display_name": "Python 3",
   "language": "python",
   "name": "python3"
  },
  "language_info": {
   "codemirror_mode": {
    "name": "ipython",
    "version": 3
   },
   "file_extension": ".py",
   "mimetype": "text/x-python",
   "name": "python",
   "nbconvert_exporter": "python",
   "pygments_lexer": "ipython3",
   "version": "3.7.1"
  }
 },
 "nbformat": 4,
 "nbformat_minor": 2
}
