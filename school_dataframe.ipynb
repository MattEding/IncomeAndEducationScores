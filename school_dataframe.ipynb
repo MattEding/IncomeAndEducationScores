{
 "cells": [
  {
   "cell_type": "code",
   "execution_count": 1,
   "metadata": {},
   "outputs": [],
   "source": [
    "import pathlib\n",
    "import zipfile\n",
    "\n",
    "import numpy as np\n",
    "import pandas as pd"
   ]
  },
  {
   "cell_type": "code",
   "execution_count": 2,
   "metadata": {},
   "outputs": [],
   "source": [
    "cwd = pathlib.Path.cwd()\n",
    "data_path = cwd / 'data'\n",
    "csv_path = data_path / 'csv'\n",
    "zip_path = data_path / 'zip'\n",
    "\n",
    "if not zip_path.exists():\n",
    "    raise FileNotFoundError(f\"'{zip_path}' does not exist\")\n",
    "\n",
    "pathlib.Path.mkdir(csv_path, exist_ok=True)"
   ]
  },
  {
   "cell_type": "code",
   "execution_count": 3,
   "metadata": {},
   "outputs": [],
   "source": [
    "CDS_CODE = ['County Code', 'District Code', 'School Code']\n",
    "\n",
    "def read_zip(zip_file):\n",
    "    with zipfile.ZipFile(zip_file) as zf:\n",
    "        results_file, entities_file = zf.filelist\n",
    "        results_csv = zf.extract(results_file, csv_path)\n",
    "        entities_csv = zf.extract(entities_file, csv_path)\n",
    "    \n",
    "    results_df = (pd.read_csv(results_csv)\n",
    "                    .set_index(CDS_CODE)\n",
    "                    .drop(columns=['Test Type', 'Filler'])      #: All 'Test Type' values were == 'B'\n",
    "                    .replace('*', np.nan))\n",
    "\n",
    "    results_df['Mean Scale Score'] = results_df['Mean Scale Score'].map(float)\n",
    "    pcts = [col for col in results_df.columns if 'Percent' in col]\n",
    "    results_df.loc[:,pcts] = results_df.loc[:,pcts].applymap(lambda x: float(x) / 100)\n",
    "\n",
    "    entities_df = pd.read_csv(entities_csv, encoding='latin-1').set_index(CDS_CODE)\n",
    "    return results_df, entities_df"
   ]
  },
  {
   "cell_type": "code",
   "execution_count": 4,
   "metadata": {},
   "outputs": [],
   "source": [
    "file_2015 = zip_path / 'sb_ca2015_1_csv_v3.zip'\n",
    "file_2016 = zip_path / 'sb_ca2016_1_csv_v3.zip'\n",
    "file_2017 = zip_path / 'sb_ca2017_1_csv_v2.zip'\n",
    "file_2018 = zip_path / 'sb_ca2018_1_csv_v3.zip'\n",
    "\n",
    "results_2015, entities_2015 = read_zip(file_2015)\n",
    "results_2016, entities_2016 = read_zip(file_2016)\n",
    "results_2017, entities_2017 = read_zip(file_2017)\n",
    "results_2018, entities_2018 = read_zip(file_2018)\n",
    "\n",
    "results_all = pd.concat([results_2015, results_2016, results_2017, results_2018], sort=True)\n",
    "entities_all = entities_2015 + entities_2016 + entities_2017 + entities_2018"
   ]
  },
  {
   "cell_type": "code",
   "execution_count": null,
   "metadata": {},
   "outputs": [],
   "source": []
  }
 ],
 "metadata": {
  "kernelspec": {
   "display_name": "Python 3",
   "language": "python",
   "name": "python3"
  },
  "language_info": {
   "codemirror_mode": {
    "name": "ipython",
    "version": 3
   },
   "file_extension": ".py",
   "mimetype": "text/x-python",
   "name": "python",
   "nbconvert_exporter": "python",
   "pygments_lexer": "ipython3",
   "version": "3.7.1"
  }
 },
 "nbformat": 4,
 "nbformat_minor": 2
}
