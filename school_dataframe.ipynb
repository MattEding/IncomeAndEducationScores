{
 "cells": [
  {
   "cell_type": "code",
   "execution_count": 1,
   "metadata": {},
   "outputs": [],
   "source": [
    "import pathlib\n",
    "import pickle\n",
    "import zipfile\n",
    "\n",
    "import numpy as np\n",
    "import pandas as pd"
   ]
  },
  {
   "cell_type": "markdown",
   "metadata": {},
   "source": [
    "# Parse SBAC results"
   ]
  },
  {
   "cell_type": "code",
   "execution_count": 2,
   "metadata": {},
   "outputs": [],
   "source": [
    "cwd = pathlib.Path.cwd()\n",
    "data_path = cwd / 'data'\n",
    "csv_path = data_path / 'csv'\n",
    "zip_path = data_path / 'zip'\n",
    "pkl_path = data_path / 'pkl'\n",
    "\n",
    "if not zip_path.exists():\n",
    "    raise FileNotFoundError(f\"'{zip_path}' does not exist\")\n",
    "    \n",
    "if not pkl_path.exists():\n",
    "    raise FileNotFoundError(f\"'{pkl_path}' does not exist\")\n",
    "\n",
    "pathlib.Path.mkdir(csv_path, exist_ok=True)"
   ]
  },
  {
   "cell_type": "code",
   "execution_count": 10,
   "metadata": {},
   "outputs": [],
   "source": [
    "CDS_CODE = ['County Code', 'District Code', 'School Code']\n",
    "\n",
    "def read_zip(zip_file):\n",
    "    with zipfile.ZipFile(zip_file) as zf:\n",
    "        results_file, entities_file = zf.filelist\n",
    "        results_csv = zf.extract(results_file, csv_path)\n",
    "        entities_csv = zf.extract(entities_file, csv_path)\n",
    "    \n",
    "    #: Results Cleanse\n",
    "    results_df = (pd.read_csv(results_csv)\n",
    "                    .set_index(CDS_CODE)\n",
    "                    # all `Test Types` = B; `Subgroup IDs` = 1; `Filler` is blank\n",
    "                    .drop(columns=['Filler', 'Test Type', 'Subgroup ID'])  \n",
    "                    .replace('*', np.nan)\n",
    "                    .astype(float))\n",
    "\n",
    "    pcts = [col for col in results_df.columns if 'Percent' in col]\n",
    "    results_df.loc[:,pcts] = results_df.loc[:,pcts].applymap(lambda x: float(x) / 100)\n",
    "    \n",
    "    results_df.index.names = list('CDS')\n",
    "    results_df.columns = results_df.columns.str.replace(' ', '_')\n",
    "\n",
    "    #: Entities Cleanse\n",
    "    entities_df = (pd.read_csv(entities_csv, encoding='latin-1')\n",
    "                     .set_index(CDS_CODE)\n",
    "                     .drop(columns=['Filler'])\n",
    "                     .replace(' ' * 5, np.nan))\n",
    "    \n",
    "    entities_df.index.names = list('CDS')\n",
    "    entities_df.columns = 'Year Type_Id County District School Zip'.split()\n",
    "    entities_df = entities_df.drop(columns=['Year'])\n",
    "                   \n",
    "    return results_df, entities_df"
   ]
  },
  {
   "cell_type": "code",
   "execution_count": 11,
   "metadata": {},
   "outputs": [],
   "source": [
    "file_2018 = zip_path / 'sb_ca2018_1_csv_v3.zip'\n",
    "res, ent = results_2018, entities_2018 = read_zip(file_2018)"
   ]
  },
  {
   "cell_type": "code",
   "execution_count": 12,
   "metadata": {},
   "outputs": [
    {
     "name": "stdout",
     "output_type": "stream",
     "text": [
      "<class 'pandas.core.frame.DataFrame'>\n",
      "MultiIndex: 101725 entries, (0, 0, 0) to (58, 72769, 5838305)\n",
      "Data columns (total 26 columns):\n",
      "Test_Year                            101725 non-null float64\n",
      "Total_Tested_At_Entity_Level         95556 non-null float64\n",
      "Total_Tested_with_Scores             95526 non-null float64\n",
      "Grade                                101725 non-null float64\n",
      "Test_Id                              101725 non-null float64\n",
      "CAASPP_Reported_Enrollment           89436 non-null float64\n",
      "Students_Tested                      89436 non-null float64\n",
      "Mean_Scale_Score                     68472 non-null float64\n",
      "Percentage_Standard_Exceeded         89436 non-null float64\n",
      "Percentage_Standard_Met              89436 non-null float64\n",
      "Percentage_Standard_Met_and_Above    89436 non-null float64\n",
      "Percentage_Standard_Nearly_Met       89436 non-null float64\n",
      "Percentage_Standard_Not_Met          89436 non-null float64\n",
      "Students_with_Scores                 89436 non-null float64\n",
      "Area_1_Percentage_Above_Standard     89436 non-null float64\n",
      "Area_1_Percentage_Near_Standard      89436 non-null float64\n",
      "Area_1_Percentage_Below_Standard     89436 non-null float64\n",
      "Area_2_Percentage_Above_Standard     89436 non-null float64\n",
      "Area_2_Percentage_Near_Standard      89436 non-null float64\n",
      "Area_2_Percentage_Below_Standard     89436 non-null float64\n",
      "Area_3_Percentage_Above_Standard     89436 non-null float64\n",
      "Area_3_Percentage_Near_Standard      89436 non-null float64\n",
      "Area_3_Percentage_Below_Standard     89436 non-null float64\n",
      "Area_4_Percentage_Above_Standard     89436 non-null float64\n",
      "Area_4_Percentage_Near_Standard      89436 non-null float64\n",
      "Area_4_Percentage_Below_Standard     89436 non-null float64\n",
      "dtypes: float64(26)\n",
      "memory usage: 20.8 MB\n"
     ]
    }
   ],
   "source": [
    "res.info()"
   ]
  },
  {
   "cell_type": "code",
   "execution_count": 13,
   "metadata": {},
   "outputs": [
    {
     "data": {
      "text/plain": [
       "(89436, 26)"
      ]
     },
     "execution_count": 13,
     "metadata": {},
     "output_type": "execute_result"
    }
   ],
   "source": [
    "res.head()\n",
    "res.dropna(thresh=6).shape"
   ]
  },
  {
   "cell_type": "markdown",
   "metadata": {},
   "source": [
    "# To get Zip Codes to scrape"
   ]
  },
  {
   "cell_type": "code",
   "execution_count": 14,
   "metadata": {},
   "outputs": [],
   "source": [
    "zip_code_arr = ent['Zip'].dropna().map(int).unique()\n",
    "zip_code_path = csv_path / 'zip_codes.csv'\n",
    "np.savetxt(zip_code_path, zip_code_arr, delimiter=\",\")"
   ]
  },
  {
   "cell_type": "markdown",
   "metadata": {},
   "source": [
    "# Get results of scraped Zip Codes into DataFrame"
   ]
  },
  {
   "cell_type": "code",
   "execution_count": 15,
   "metadata": {},
   "outputs": [],
   "source": [
    "zip_code_pkl = pkl_path / 'zip_codes.pkl'\n",
    "with open(zip_code_pkl, 'rb') as fp:\n",
    "    zip_code_dct = pickle.load(fp)\n",
    "    \n",
    "zip_code_dct = {str(k): v.get('Median Household Income', np.nan) for k, v in zip_code_dct.items()}\n",
    "ent['Median_Income'] = ent['Zip'].map(zip_code_dct)\n",
    "df = res.join(ent, how='inner').drop(columns=['County', 'District', 'School'])\n",
    "df = df[df['Grade'] != 13]\n",
    "df = df[df['CAASPP_Reported_Enrollment'].notnull()]\n",
    "df = df[df['Median_Income'].notnull()]"
   ]
  },
  {
   "cell_type": "markdown",
   "metadata": {},
   "source": [
    "# Store cleansed data with target and features"
   ]
  },
  {
   "cell_type": "code",
   "execution_count": 16,
   "metadata": {},
   "outputs": [],
   "source": [
    "df_pkl = pkl_path / 'observations.pkl'\n",
    "df.to_pickle(df_pkl)"
   ]
  },
  {
   "cell_type": "code",
   "execution_count": 17,
   "metadata": {},
   "outputs": [
    {
     "name": "stdout",
     "output_type": "stream",
     "text": [
      "<class 'pandas.core.frame.DataFrame'>\n",
      "MultiIndex: 56928 entries, (1, 10017, 112607) to (58, 72769, 5838305)\n",
      "Data columns (total 29 columns):\n",
      "Test_Year                            56928 non-null float64\n",
      "Total_Tested_At_Entity_Level         56928 non-null float64\n",
      "Total_Tested_with_Scores             56928 non-null float64\n",
      "Grade                                56928 non-null float64\n",
      "Test_Id                              56928 non-null float64\n",
      "CAASPP_Reported_Enrollment           56928 non-null float64\n",
      "Students_Tested                      56928 non-null float64\n",
      "Mean_Scale_Score                     56928 non-null float64\n",
      "Percentage_Standard_Exceeded         56928 non-null float64\n",
      "Percentage_Standard_Met              56928 non-null float64\n",
      "Percentage_Standard_Met_and_Above    56928 non-null float64\n",
      "Percentage_Standard_Nearly_Met       56928 non-null float64\n",
      "Percentage_Standard_Not_Met          56928 non-null float64\n",
      "Students_with_Scores                 56928 non-null float64\n",
      "Area_1_Percentage_Above_Standard     56928 non-null float64\n",
      "Area_1_Percentage_Near_Standard      56928 non-null float64\n",
      "Area_1_Percentage_Below_Standard     56928 non-null float64\n",
      "Area_2_Percentage_Above_Standard     56928 non-null float64\n",
      "Area_2_Percentage_Near_Standard      56928 non-null float64\n",
      "Area_2_Percentage_Below_Standard     56928 non-null float64\n",
      "Area_3_Percentage_Above_Standard     56928 non-null float64\n",
      "Area_3_Percentage_Near_Standard      56928 non-null float64\n",
      "Area_3_Percentage_Below_Standard     56928 non-null float64\n",
      "Area_4_Percentage_Above_Standard     56928 non-null float64\n",
      "Area_4_Percentage_Near_Standard      56928 non-null float64\n",
      "Area_4_Percentage_Below_Standard     56928 non-null float64\n",
      "Type_Id                              56928 non-null int64\n",
      "Zip                                  56928 non-null object\n",
      "Median_Income                        56928 non-null float64\n",
      "dtypes: float64(27), int64(1), object(1)\n",
      "memory usage: 13.0+ MB\n"
     ]
    }
   ],
   "source": [
    "df.info()"
   ]
  },
  {
   "cell_type": "code",
   "execution_count": null,
   "metadata": {},
   "outputs": [],
   "source": []
  }
 ],
 "metadata": {
  "kernelspec": {
   "display_name": "Python 3",
   "language": "python",
   "name": "python3"
  },
  "language_info": {
   "codemirror_mode": {
    "name": "ipython",
    "version": 3
   },
   "file_extension": ".py",
   "mimetype": "text/x-python",
   "name": "python",
   "nbconvert_exporter": "python",
   "pygments_lexer": "ipython3",
   "version": "3.7.1"
  }
 },
 "nbformat": 4,
 "nbformat_minor": 2
}
