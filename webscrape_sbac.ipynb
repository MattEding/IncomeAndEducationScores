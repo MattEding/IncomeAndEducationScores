{
 "cells": [
  {
   "cell_type": "code",
   "execution_count": 1,
   "metadata": {},
   "outputs": [],
   "source": [
    "import pathlib\n",
    "import random\n",
    "import time\n",
    "\n",
    "import requests\n",
    "from selenium import webdriver"
   ]
  },
  {
   "cell_type": "code",
   "execution_count": 2,
   "metadata": {},
   "outputs": [],
   "source": [
    "cwd = pathlib.Path.cwd()\n",
    "data_path = cwd / 'data'\n",
    "zip_path = data_path  / 'zip'\n",
    "pathlib.Path.mkdir(data_path, exist_ok=True)\n",
    "pathlib.Path.mkdir(zip_path, exist_ok=True)"
   ]
  },
  {
   "cell_type": "code",
   "execution_count": 3,
   "metadata": {},
   "outputs": [],
   "source": [
    "url = 'https://caaspp.cde.ca.gov/sb2018/ResearchFileList'\n",
    "driver = webdriver.Firefox()\n",
    "driver.get(url)"
   ]
  },
  {
   "cell_type": "code",
   "execution_count": 4,
   "metadata": {},
   "outputs": [],
   "source": [
    "DROPDOWN = 'ctl00_MainContent_DropDownYear_Input'\n",
    "LISTBOX = 'ctl00_MainContent_DropDownYear_listbox'\n",
    "BUTTON = 'MainContent_Button2'\n",
    "TEXT = 'All Students, comma delimited'"
   ]
  },
  {
   "cell_type": "code",
   "execution_count": 5,
   "metadata": {},
   "outputs": [],
   "source": [
    "def get_listbox_elems(driver):\n",
    "    dropdown = driver.find_element_by_id(DROPDOWN)\n",
    "    dropdown.click()\n",
    "    listbox = driver.find_element_by_id(LISTBOX)\n",
    "    listbox_elems = listbox.find_elements_by_tag_name('li')\n",
    "    return listbox_elems\n",
    "\n",
    "def save_zip(driver):\n",
    "    link = driver.find_element_by_partial_link_text(TEXT)\n",
    "    href = link.get_attribute('href')\n",
    "    name = href.split('/')[-1]\n",
    "    file_path = zip_path / name\n",
    "    \n",
    "    resp = requests.get(href)\n",
    "    with open(file_path, 'wb') as fp:\n",
    "        for chunk in resp.iter_content(chunk_size=102400):\n",
    "            fp.write(chunk)"
   ]
  },
  {
   "cell_type": "code",
   "execution_count": 6,
   "metadata": {},
   "outputs": [],
   "source": [
    "listbox_elems = get_listbox_elems(driver)\n",
    "#: cannot enumerate 'listbox_items' due to DOM errors\n",
    "for i in range(len(listbox_elems)):\n",
    "    listbox_elems = get_listbox_elems(driver)\n",
    "    listbox_elems[i].click()\n",
    "    \n",
    "    button = driver.find_element_by_id(BUTTON)\n",
    "    button.click()\n",
    "    \n",
    "    save_zip(driver) \n",
    "    time.sleep(5 + random.random() - random.random())"
   ]
  },
  {
   "cell_type": "code",
   "execution_count": 7,
   "metadata": {},
   "outputs": [],
   "source": [
    "driver.close()"
   ]
  },
  {
   "cell_type": "code",
   "execution_count": null,
   "metadata": {},
   "outputs": [],
   "source": []
  }
 ],
 "metadata": {
  "kernelspec": {
   "display_name": "Python 3",
   "language": "python",
   "name": "python3"
  },
  "language_info": {
   "codemirror_mode": {
    "name": "ipython",
    "version": 3
   },
   "file_extension": ".py",
   "mimetype": "text/x-python",
   "name": "python",
   "nbconvert_exporter": "python",
   "pygments_lexer": "ipython3",
   "version": "3.7.1"
  }
 },
 "nbformat": 4,
 "nbformat_minor": 2
}
