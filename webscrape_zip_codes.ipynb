{
 "cells": [
  {
   "cell_type": "code",
   "execution_count": 121,
   "metadata": {},
   "outputs": [],
   "source": [
    "import itertools\n",
    "import string\n",
    "\n",
    "import numpy as np\n",
    "from selenium import webdriver\n",
    "from selenium.webdriver.common.keys import Keys"
   ]
  },
  {
   "cell_type": "code",
   "execution_count": 3,
   "metadata": {},
   "outputs": [],
   "source": [
    "url = 'https://www.unitedstateszipcodes.org/'"
   ]
  },
  {
   "cell_type": "code",
   "execution_count": 4,
   "metadata": {},
   "outputs": [],
   "source": [
    "driver = webdriver.Firefox()\n",
    "driver.get(url)"
   ]
  },
  {
   "cell_type": "code",
   "execution_count": 105,
   "metadata": {},
   "outputs": [],
   "source": [
    "def search_zip_code(driver, zip_code):\n",
    "    text_field_id = 'q'\n",
    "    text_field = driver.find_element_by_id(text_field_id)\n",
    "    text_field.click()\n",
    "    text_field.send_keys(Keys.COMMAND + 'a')\n",
    "    text_field.send_keys(Keys.DELETE)\n",
    "    text_field.send_keys(zip_code)\n",
    "    \n",
    "    button_class = 'btn-danger'\n",
    "    button = driver.find_element_by_class_name(button_class)\n",
    "    button.click()"
   ]
  },
  {
   "cell_type": "code",
   "execution_count": 122,
   "metadata": {},
   "outputs": [],
   "source": [
    "IGNORE = string.ascii_letters + ' $'\n",
    "\n",
    "def get_info_by_zip_code(driver, zip_code):\n",
    "    search_zip_code(driver, zip_code)\n",
    "    tables = driver.find_elements_by_tag_name('table')\n",
    "    \n",
    "    dct = {'Zip Code': zip_code}\n",
    "    keys1 = ['Population', 'Population Density', 'Housing Units', 'Median Home Value']\n",
    "    keys2 = ['Land Area', 'Water Area', 'Occupied Housing Units', 'Median Household Income']\n",
    "    \n",
    "    for i, keys in enumerate([keys1, keys2], start=1):\n",
    "        try:\n",
    "            data = tables[i].text.split('\\n')\n",
    "        except IndexError:\n",
    "            vals = itertools.repeat(np.nan)\n",
    "        else:\n",
    "            vals = (float(d.strip(IGNORE).replace(',' , '')) for d in data)\n",
    "        dct.update(zip(keys, vals))\n",
    "\n",
    "    return dct"
   ]
  },
  {
   "cell_type": "code",
   "execution_count": 123,
   "metadata": {},
   "outputs": [
    {
     "data": {
      "text/plain": [
       "{'Zip Code': 94526,\n",
       " 'Population': 31102.0,\n",
       " 'Population Density': 2083.0,\n",
       " 'Housing Units': 12218.0,\n",
       " 'Median Home Value': 814600.0,\n",
       " 'Land Area': 14.93,\n",
       " 'Water Area': 0.0,\n",
       " 'Occupied Housing Units': 11781.0,\n",
       " 'Median Household Income': 124511.0}"
      ]
     },
     "execution_count": 123,
     "metadata": {},
     "output_type": "execute_result"
    }
   ],
   "source": [
    "get_info_by_zip_code(driver, 94526)"
   ]
  },
  {
   "cell_type": "code",
   "execution_count": 124,
   "metadata": {},
   "outputs": [
    {
     "data": {
      "text/plain": [
       "{'Zip Code': 94540,\n",
       " 'Population': nan,\n",
       " 'Population Density': nan,\n",
       " 'Housing Units': nan,\n",
       " 'Median Home Value': nan,\n",
       " 'Land Area': nan,\n",
       " 'Water Area': nan,\n",
       " 'Occupied Housing Units': nan,\n",
       " 'Median Household Income': nan}"
      ]
     },
     "execution_count": 124,
     "metadata": {},
     "output_type": "execute_result"
    }
   ],
   "source": [
    "get_info_by_zip_code(driver, 94540)"
   ]
  },
  {
   "cell_type": "code",
   "execution_count": 125,
   "metadata": {},
   "outputs": [],
   "source": [
    "driver.close()"
   ]
  },
  {
   "cell_type": "code",
   "execution_count": null,
   "metadata": {},
   "outputs": [],
   "source": []
  }
 ],
 "metadata": {
  "kernelspec": {
   "display_name": "Python 3",
   "language": "python",
   "name": "python3"
  },
  "language_info": {
   "codemirror_mode": {
    "name": "ipython",
    "version": 3
   },
   "file_extension": ".py",
   "mimetype": "text/x-python",
   "name": "python",
   "nbconvert_exporter": "python",
   "pygments_lexer": "ipython3",
   "version": "3.7.1"
  }
 },
 "nbformat": 4,
 "nbformat_minor": 2
}
