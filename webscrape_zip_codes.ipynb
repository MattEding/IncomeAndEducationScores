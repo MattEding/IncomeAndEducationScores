{
 "cells": [
  {
   "cell_type": "code",
   "execution_count": 10,
   "metadata": {},
   "outputs": [],
   "source": [
    "import itertools\n",
    "import pathlib\n",
    "import pickle\n",
    "import string\n",
    "import time\n",
    "\n",
    "import numpy as np\n",
    "from selenium import webdriver\n",
    "from selenium.webdriver.common.keys import Keys\n",
    "from IPython.display import clear_output"
   ]
  },
  {
   "cell_type": "code",
   "execution_count": 2,
   "metadata": {},
   "outputs": [],
   "source": [
    "url = 'https://www.unitedstateszipcodes.org/'"
   ]
  },
  {
   "cell_type": "code",
   "execution_count": 3,
   "metadata": {},
   "outputs": [],
   "source": [
    "driver = webdriver.Firefox()\n",
    "driver.get(url)"
   ]
  },
  {
   "cell_type": "code",
   "execution_count": 4,
   "metadata": {},
   "outputs": [],
   "source": [
    "def search_zip_code(driver, zip_code):\n",
    "    text_field_id = 'q'\n",
    "    text_field = driver.find_element_by_id(text_field_id)\n",
    "    text_field.click()\n",
    "    text_field.send_keys(Keys.COMMAND + 'a')\n",
    "    text_field.send_keys(Keys.DELETE)\n",
    "    text_field.send_keys(zip_code)\n",
    "    \n",
    "    button_class = 'btn-danger'\n",
    "    button = driver.find_element_by_class_name(button_class)\n",
    "    button.click()"
   ]
  },
  {
   "cell_type": "code",
   "execution_count": 5,
   "metadata": {},
   "outputs": [],
   "source": [
    "IGNORE = string.ascii_letters + ' $'\n",
    "\n",
    "def get_info_by_zip_code(driver, zip_code):\n",
    "    search_zip_code(driver, zip_code)\n",
    "    tables = driver.find_elements_by_tag_name('table')\n",
    "    \n",
    "    dct = {'Zip Code': zip_code}\n",
    "    keys1 = ['Population', 'Population Density', 'Housing Units', 'Median Home Value']\n",
    "    keys2 = ['Land Area', 'Water Area', 'Occupied Housing Units', 'Median Household Income']\n",
    "    \n",
    "    for i, keys in enumerate([keys1, keys2], start=1):\n",
    "        try:\n",
    "            data = tables[i].text.split('\\n')\n",
    "        except IndexError:\n",
    "            vals = itertools.repeat(np.nan)\n",
    "        else:\n",
    "            vals = (float(d.strip(IGNORE).replace(',' , '')) for d in data)\n",
    "        dct.update(zip(keys, vals))\n",
    "\n",
    "    return dct"
   ]
  },
  {
   "cell_type": "code",
   "execution_count": 8,
   "metadata": {},
   "outputs": [],
   "source": [
    "cwd = pathlib.Path.cwd()\n",
    "data_path = cwd / 'data'\n",
    "csv_path = data_path / 'csv'\n",
    "\n",
    "zip_code_path = csv_path / 'zip_codes.csv'\n",
    "zip_code_arr = np.genfromtxt(zip_code_path, delimiter=',')\n",
    "\n",
    "pkl_path = data_path / 'pkl'\n",
    "zip_code_pkl = pkl_path / 'zip_codes.pkl'\n",
    "if not pkl_path.exists():\n",
    "    zip_code_dct = {}\n",
    "else:\n",
    "    with open(zip_code_pkl, 'rb') as fp:\n",
    "        zip_code_dct = pickle.load(fp)"
   ]
  },
  {
   "cell_type": "code",
   "execution_count": 11,
   "metadata": {},
   "outputs": [
    {
     "name": "stdout",
     "output_type": "stream",
     "text": [
      "Done**************************************************\n"
     ]
    }
   ],
   "source": [
    "start = 1441\n",
    "stop = None\n",
    "for i, zip_code in enumerate(zip_code_arr[start:stop], start=start):\n",
    "    dct = get_info_by_zip_code(driver, int(zip_code))\n",
    "    zip_code = dct.pop('Zip Code')\n",
    "    zip_code_dct[zip_code] = dct\n",
    "    \n",
    "    delay = 3 + np.random.rand() + np.random.poisson()\n",
    "    print(f'{i:>5} - Delay: {delay:.4}')\n",
    "    time.sleep(delay)\n",
    "    clear_output(wait=True)\n",
    "print('Done' + '*' * 50)"
   ]
  },
  {
   "cell_type": "code",
   "execution_count": 12,
   "metadata": {},
   "outputs": [],
   "source": [
    "pathlib.Path.mkdir(pkl_path, exist_ok=True)\n",
    "with open(zip_code_pkl, 'wb') as fp:\n",
    "    pickle.dump(zip_code_dct, fp)"
   ]
  },
  {
   "cell_type": "code",
   "execution_count": 13,
   "metadata": {},
   "outputs": [
    {
     "data": {
      "text/plain": [
       "(1493, 1494)"
      ]
     },
     "execution_count": 13,
     "metadata": {},
     "output_type": "execute_result"
    }
   ],
   "source": [
    "len(zip_code_dct), len(zip_code_arr)"
   ]
  },
  {
   "cell_type": "code",
   "execution_count": 18,
   "metadata": {},
   "outputs": [],
   "source": [
    "driver.quit()"
   ]
  },
  {
   "cell_type": "code",
   "execution_count": null,
   "metadata": {},
   "outputs": [],
   "source": []
  }
 ],
 "metadata": {
  "kernelspec": {
   "display_name": "Python 3",
   "language": "python",
   "name": "python3"
  },
  "language_info": {
   "codemirror_mode": {
    "name": "ipython",
    "version": 3
   },
   "file_extension": ".py",
   "mimetype": "text/x-python",
   "name": "python",
   "nbconvert_exporter": "python",
   "pygments_lexer": "ipython3",
   "version": "3.7.1"
  }
 },
 "nbformat": 4,
 "nbformat_minor": 2
}
